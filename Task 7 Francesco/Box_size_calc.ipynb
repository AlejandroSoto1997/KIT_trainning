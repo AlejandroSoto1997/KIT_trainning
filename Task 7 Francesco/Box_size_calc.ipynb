{
 "cells": [
  {
   "cell_type": "code",
   "execution_count": 1,
   "id": "b7026f8b",
   "metadata": {},
   "outputs": [],
   "source": [
    "# Calculation of the box size based on the volume:\n",
    "# Ilyia´s Input:\n",
    "# density 1 % v/v \n",
    "# Literature 1 g/cm3 or 1000 kg/m3\n",
    "import numpy as np"
   ]
  },
  {
   "cell_type": "code",
   "execution_count": 2,
   "id": "cb8c223d",
   "metadata": {},
   "outputs": [
    {
     "data": {
      "text/plain": [
       "'\\nLinker duplex part: 16097.46 Da TCTATTCGCATGACATTCACCGTAAG\\nMolarity : 62.74 μM\\nSticky ends\\nL0: GAGAGTCAATCG\\t: 3773.45 Da\\nL1: GAGAGTCAATC\\t\\t: 3444.24 Da*\\nMolarity: 297.16 μM\\nL2: GAGAGTCAAT\\t\\t: 3155.06 Da\\nL3: GAGAGTCAA\\t\\t: 2850.86 Da\\n\\n'"
      ]
     },
     "execution_count": 2,
     "metadata": {},
     "output_type": "execute_result"
    }
   ],
   "source": [
    "# Data calculated with https://www.bioinformatics.org/sms2/dna_mw.html\n",
    "\"\"\"\n",
    "Linker duplex part: 16097.46 Da TCTATTCGCATGACATTCACCGTAAG\n",
    "Molarity : 62.74 μM\n",
    "Sticky ends\n",
    "L0: GAGAGTCAATCG\t: 3773.45 Da\n",
    "L1: GAGAGTCAATC\t\t: 3444.24 Da*\n",
    "Molarity: 297.16 μM\n",
    "L2: GAGAGTCAAT\t\t: 3155.06 Da\n",
    "L3: GAGAGTCAA\t\t: 2850.86 Da\n",
    "\n",
    "\"\"\"\n",
    "# Total mass of the linker L1: 19870.91 Da"
   ]
  },
  {
   "cell_type": "code",
   "execution_count": 3,
   "id": "f66cc5ba",
   "metadata": {},
   "outputs": [],
   "source": [
    "#Data from oxDNA documentation:\n",
    "# 1 Da = 1.66054e-27 kg\n",
    "# 1umoxDNA=5.24e-25 kg\n",
    "# 3.15 um (units of mass) is the mass of single nucleotide \n",
    "# 1 uL = 8.518e-10 m\n",
    "conv_Da_kg=1.66054e-27\n",
    "conv_um_kg=5.24e-25\n",
    "m_nucl_um=3.1575\n",
    "conv_ul_m=8.518e-10"
   ]
  },
  {
   "cell_type": "code",
   "execution_count": 4,
   "id": "1e6600f2",
   "metadata": {},
   "outputs": [
    {
     "name": "stdout",
     "output_type": "stream",
     "text": [
      "10.221031548414025\n"
     ]
    }
   ],
   "source": [
    "#First trial\n",
    "target_denisty=1000 #in kg/m3\n",
    "mass_l1_single_kg=19870.91*conv_Da_kg #mass linker L1 in kg\n",
    "vol_num=mass_l1_single_kg/target_denisty #volumen per linker\n",
    "n=20 #number of linkers\n",
    "total_vol=n*vol_num #volumen total\n",
    "len_si=(total_vol)**(1/3) #lenght of the box\n",
    "len_sim=len_si/conv_ul_m #sim lenght\n",
    "print(len_sim)"
   ]
  },
  {
   "cell_type": "code",
   "execution_count": 5,
   "id": "8aecb6f2",
   "metadata": {},
   "outputs": [
    {
     "name": "stdout",
     "output_type": "stream",
     "text": [
      "14.994863448888971\n"
     ]
    }
   ],
   "source": [
    "#Using the mass of each nucleoatide - Ema suggestion\n",
    "total_vol_corr=n*vol_num*m_nucl_um\n",
    "len_si=(total_vol_corr)**(1/3) #lenght of the box\n",
    "len_sim=len_si/conv_ul_m #sim lenght\n",
    "print(len_sim)"
   ]
  },
  {
   "cell_type": "code",
   "execution_count": 6,
   "id": "e6290abe",
   "metadata": {},
   "outputs": [
    {
     "name": "stdout",
     "output_type": "stream",
     "text": [
      "15.823691894832237\n"
     ]
    }
   ],
   "source": [
    "#Using just the value of the nucleotides\n",
    "N=74 #number of nucleotides in one linker (L1)\n",
    "m_tot_sim=N*m_nucl_um\n",
    "m_total_si=m_tot_sim*conv_um_kg\n",
    "vol_num=m_total_si/target_denisty\n",
    "n=20 #number of linkers\n",
    "total_vol=n*vol_num #volumen total\n",
    "len_si=(total_vol)**(1/3) #lenght of the box\n",
    "len_sim=len_si/conv_ul_m #sim lenght\n",
    "print(len_sim)"
   ]
  },
  {
   "cell_type": "code",
   "execution_count": 2,
   "id": "1fc4aa48",
   "metadata": {},
   "outputs": [
    {
     "name": "stdout",
     "output_type": "stream",
     "text": [
      "561.5018068498443\n"
     ]
    }
   ],
   "source": [
    "# FINAL calculation using the volume\n",
    "#len of the linker is 40 nucleotides in total\n",
    "#rho = N *(v_o/V)#ratio of volume\n",
    "rho=3/100000\n",
    "r=2\n",
    "l=(26+14+14)/3/0.8518\n",
    "N=20\n",
    "v_linker = np.pi*l*((r)**2) #sim_units\n",
    "v_box=(N*v_linker)/rho\n",
    "l_box=(v_box)**(1/3)\n",
    "print(l_box)\n",
    "#print(f'{l_box:.2e}')"
   ]
  },
  {
   "cell_type": "code",
   "execution_count": 27,
   "id": "8077c473",
   "metadata": {},
   "outputs": [
    {
     "name": "stdout",
     "output_type": "stream",
     "text": [
      "64.27591155204469\n"
     ]
    }
   ],
   "source": [
    "#Ipy_oxdna\n",
    "rho=100/100000 #concnetration\n",
    "r=2 #radius \n",
    "l=(26+14+14)/3/0.8518 #len\n",
    "#l=(26)/3/0.8518 #lenght duplex part\n",
    "N=1 #number of linkers\n",
    "v_linker = np.pi*l*((r)**2) #sim_units \n",
    "v_box=(N*v_linker)/rho #volume of the box\n",
    "l_box=(v_box)**(1/3) #len of the box\n",
    "print(l_box)\n",
    "#print(f'{l_box:.2e}') "
   ]
  },
  {
   "cell_type": "code",
   "execution_count": 8,
   "id": "92cf3e34",
   "metadata": {},
   "outputs": [
    {
     "name": "stdout",
     "output_type": "stream",
     "text": [
      "12.086892971111917\n"
     ]
    }
   ],
   "source": [
    "rho1=v_linker/(130*130*130)*100000 #umbrella sampling mathhew sample method\n",
    "print(rho1)\n",
    "#rho2=(20)*v_linker/(380*380*380)*100000 #francesco approach concentration\n",
    "#print(rho2)"
   ]
  },
  {
   "cell_type": "code",
   "execution_count": 43,
   "id": "775478a1",
   "metadata": {},
   "outputs": [
    {
     "name": "stdout",
     "output_type": "stream",
     "text": [
      "50.37806013906467\n",
      "123.14895976732747\n"
     ]
    }
   ],
   "source": [
    "#Ipy_oxdna\n",
    "rho=100/100000 #concnetration\n",
    "r=2 #radius \n",
    "#l=(26+14+14)/3/0.8518 #lenght\n",
    "l=(26)/3/0.8518 #lenght duplex part\n",
    "N=1 #number of linker\n",
    "v_linker = np.pi*l*((r)**2) #sim_unitsn \n",
    "v_box=(N*v_linker)/rho #\n",
    "l_box=(v_box)**(1/3)\n",
    "print(l_box)\n",
    "#print(f'{l_box:.2e}') \n",
    "rho1=v_linker/(47*47*47)*100000 #umbrella sampling mathhew sample method\n",
    "print(rho1)"
   ]
  },
  {
   "cell_type": "code",
   "execution_count": 8,
   "id": "9985a6b1",
   "metadata": {},
   "outputs": [
    {
     "name": "stdout",
     "output_type": "stream",
     "text": [
      "210.62092940306547\n",
      "1.9892400951254225\n"
     ]
    }
   ],
   "source": [
    "#Ipy_oxdna\n",
    "rho=2/100000 #concnetration\n",
    "r=2 #radius \n",
    "l=(26+6+6)/3/0.8518 #lenght\n",
    "#l=(26)/3/0.8518 #lenght duplex part\n",
    "N=1 #number of linker\n",
    "v_linker = np.pi*l*((r)**2) #sim_unitsn \n",
    "v_box=(N*v_linker)/rho #\n",
    "l_box=(v_box)**(1/3)\n",
    "print(l_box)\n",
    "#print(f'{l_box:.2e}') \n",
    "rho1=v_linker/(211*211*211)*100000 #umbrella sampling mathhew sample method\n",
    "print(rho1)"
   ]
  },
  {
   "cell_type": "code",
   "execution_count": null,
   "id": "eb70d687",
   "metadata": {},
   "outputs": [],
   "source": []
  },
  {
   "cell_type": "code",
   "execution_count": 8,
   "id": "28580688",
   "metadata": {},
   "outputs": [
    {
     "name": "stdout",
     "output_type": "stream",
     "text": [
      "conc. micro molar 2.1121344609646497\n"
     ]
    }
   ],
   "source": [
    "#Calculation of the molar mass\n",
    "#assuming that the density is 1 g/ml\n",
    "conc_ppm = 20 #conc in ppm (volume basis)\n",
    "molar_w = 16097.46 #daltons for L0 source https://www.bioinformatics.org/sms2/dna_mw.html equivalent to g/mol\n",
    "avg_c = 6.022e23 #avogrado number\n",
    "den_dna = 1.7 #g/cm3\n",
    "#conmol = 1000*(conc_ppm*molar_w)/(avg_c*(10)**6) https://www.sepmag.eu/blog/protein-molarity-calculator target convert dna ammount into g and volume of the box size into L\n",
    "conmol=conc_ppm/10/100000*(0.8518)**3/((10)**21*molar_w)/(0.8518**3*10**-24)*den_dna #/10/10000 convert ppm to ratio volumetric\n",
    "print(\"conc. micro molar\",conmol*10**6)"
   ]
  },
  {
   "cell_type": "code",
   "execution_count": null,
   "id": "68ea7058",
   "metadata": {},
   "outputs": [],
   "source": [
    "###FINAL CALCULATION OF THE CONCENTRATIONS##### BY ALEJANDRO"
   ]
  },
  {
   "cell_type": "code",
   "execution_count": 18,
   "id": "db08e99a",
   "metadata": {},
   "outputs": [
    {
     "name": "stdout",
     "output_type": "stream",
     "text": [
      "Molecular weight of the single strand ADN: 268.2 g/mol\n",
      "Molecular weight of the double strand ADN: 15941.399999999998 g/mol\n",
      "Molecular weight of the whole system: 16209.599999999999 g/mol\n"
     ]
    }
   ],
   "source": [
    "class DNASequence:\n",
    "    def __init__(self, sequence):\n",
    "        self.sequence = sequence.upper()\n",
    "\n",
    "    def count_nucleotides(self):\n",
    "        nucleotide_count = {'A': 0, 'G': 0, 'C': 0, 'T': 0}\n",
    "        for nucleotide in self.sequence:\n",
    "            if nucleotide in nucleotide_count:\n",
    "                nucleotide_count[nucleotide] += 1\n",
    "        return nucleotide_count\n",
    "\n",
    "    def molecular_weight_single_strand(self):\n",
    "        nucleotide_count = self.count_nucleotides()\n",
    "        weight = (313.2 * nucleotide_count['A']) + (329.2 * nucleotide_count['G']) + \\\n",
    "                 (289.2 * nucleotide_count['C']) + (304.2 * nucleotide_count['T']) - 61.0\n",
    "        return weight\n",
    "\n",
    "    def molecular_weight_double_strand(self, complementary_sequence):\n",
    "        nucleotide_count1 = self.count_nucleotides()\n",
    "        nucleotide_count2 = complementary_sequence.count_nucleotides()\n",
    "        weight = (313.2 * nucleotide_count1['A']) + (329.2 * nucleotide_count1['G']) + \\\n",
    "                 (289.2 * nucleotide_count1['C']) + (304.2 * nucleotide_count1['T']) + \\\n",
    "                 (313.2 * nucleotide_count2['A']) + (329.2 * nucleotide_count2['G']) + \\\n",
    "                 (289.2 * nucleotide_count2['C']) + (304.2 * nucleotide_count2['T']) - (2 * 61.0)\n",
    "        return weight\n",
    "\n",
    "\n",
    "def complement(sequence):\n",
    "    complement_map = {'A': 'T', 'T': 'A', 'G': 'C', 'C': 'G'}\n",
    "    return ''.join([complement_map[base] for base in sequence])\n",
    "\n",
    "\n",
    "def main():\n",
    "    # single strand sequence\n",
    "    single_strand_sequence = \"G\"\n",
    "    single_strand = DNASequence(single_strand_sequence)\n",
    "\n",
    "    # double strand sequence\n",
    "    double_strand_sequence = \"TCTATTCGCATGACATTCACCGTAAG\"\n",
    "    complementary_sequence = complement(double_strand_sequence)\n",
    "    double_strand = DNASequence(double_strand_sequence)\n",
    "    complementary_strand = DNASequence(complementary_sequence)\n",
    "\n",
    "    # molar weight calculation\n",
    "    weight_single_strand = single_strand.molecular_weight_single_strand()\n",
    "    weight_double_strand = double_strand.molecular_weight_double_strand(complementary_strand)\n",
    "    molar_w = weight_single_strand + weight_double_strand\n",
    "    print(\"Molecular weight of the single strand ADN:\", weight_single_strand, \"g/mol\")\n",
    "    print(\"Molecular weight of the double strand ADN:\", weight_double_strand, \"g/mol\")\n",
    "    print(\"Molecular weight of the whole system:\", molar_w, \"g/mol\")\n",
    "\n",
    "\n",
    "\n",
    "if __name__ == \"__main__\":\n",
    "    main()\n"
   ]
  },
  {
   "cell_type": "code",
   "execution_count": 23,
   "id": "8be573ec",
   "metadata": {},
   "outputs": [],
   "source": [
    "#copy the result on the other cells dependening on the goal !!!!"
   ]
  },
  {
   "cell_type": "code",
   "execution_count": 19,
   "id": "d4fa7668",
   "metadata": {},
   "outputs": [
    {
     "name": "stdout",
     "output_type": "stream",
     "text": [
      "Len. of oxdna box: 240.58236345428625\n"
     ]
    }
   ],
   "source": [
    "import numpy as np\n",
    "def umolar_to_lbox(molar_w, concentration_um, leng, n):\n",
    "\n",
    "    # Calcular la concentración en ppm utilizando la misma ecuación\n",
    "    den_dna = 1.7  # density of the dna g/cm3\n",
    "    conmol = concentration_um / 10 ** 6 #conversion to micromolar\n",
    "    a = 1 / conmol # inverse math operation\n",
    "    b = a  / 10 / 100000 * (0.8518) ** 3 / ((10) ** 21 * molar_w) / (0.8518 ** 3 * 10 ** -24) * den_dna #units conversions function\n",
    "    c = 1 / b #ppm conversion inverse\n",
    "    rho = c / (100000 * 10) #conversion ppm to ema variable\n",
    "    r = 2 #radius\n",
    "    l = leng / 3 / 0.8518 #conversion from #nucleotides to sim units\n",
    "    v_linker = np.pi * l * ((r)**2) #volume of the linker\n",
    "    v_box=(n * v_linker) / rho #volume of the box\n",
    "    lbox=(v_box)**(1/3) #len of the box\n",
    "    return lbox\n",
    "\n",
    "# Ejemplo de uso\n",
    "molar_w = 16209.599999999999 # molecular weight in g/mol\n",
    "leng = 26+1 # len. in nucleotides for exmaple for the duplex is just 26 for the L0 is 26+12\n",
    "n = 1 #number of linkers in our case just 1\n",
    "concentration_um = 1  # concentration in micro molar (µM)\n",
    "res_l_box = umolar_to_lbox(molar_w, concentration_um, leng, n)\n",
    "print(\"Len. of oxdna box:\", res_l_box)\n"
   ]
  },
  {
   "cell_type": "code",
   "execution_count": null,
   "id": "5dbef55b",
   "metadata": {},
   "outputs": [],
   "source": []
  },
  {
   "cell_type": "code",
   "execution_count": null,
   "id": "4bbe4fc1",
   "metadata": {},
   "outputs": [],
   "source": [
    "#### OTHER CALCULATIONS ####"
   ]
  },
  {
   "cell_type": "code",
   "execution_count": 27,
   "id": "baf8a9ad",
   "metadata": {},
   "outputs": [
    {
     "name": "stdout",
     "output_type": "stream",
     "text": [
      "Concentration in micromolar (µM): 1.8477256670833113\n"
     ]
    }
   ],
   "source": [
    "def ppm_to_umolar(molar_w, concentration_ppm):\n",
    "\n",
    "    \n",
    "    # Cálculo de la concentración en micromolar (µM)\n",
    "    #conc_ppm = 20  # concentración en ppm (base de volumen)\n",
    "    den_dna = 1.7  # g/cm3\n",
    "    conmol = concentration_ppm / 10 / 100000 * (0.8518) ** 3 / ((10) ** 21 * molar_w) / (0.8518 ** 3 * 10 ** -24) * den_dna\n",
    "    return conmol\n",
    "    \n",
    "concnetration_ppm = 20\n",
    "molar_w = 15880.399999999998\n",
    "conmol = ppm_to_umolar(molar_w, concnetration_ppm)\n",
    "conumol = conmol * 10 ** 6\n",
    "print(\"Concentration in micromolar (µM):\", conumol)\n"
   ]
  },
  {
   "cell_type": "code",
   "execution_count": 53,
   "id": "4d58edb8",
   "metadata": {},
   "outputs": [
    {
     "name": "stdout",
     "output_type": "stream",
     "text": [
      "Concentration in ppm: 9.34141176470588\n"
     ]
    }
   ],
   "source": [
    "def umolar_to_ppm(molar_w, concentration_um):\n",
    "\n",
    "    # Calcular la concentración en ppm utilizando la misma ecuación\n",
    "    den_dna = 1.7  # g/cm3\n",
    "    conmol = concentration_um / 10 ** 6\n",
    "    a = 1 / conmol\n",
    "    b = a  / 10 / 100000 * (0.8518) ** 3 / ((10) ** 21 * molar_w) / (0.8518 ** 3 * 10 ** -24) * den_dna\n",
    "    return b\n",
    "\n",
    "# Ejemplo de uso\n",
    "molar_w = 15880.399999999998 # Peso molecular de la sustancia en g/mol\n",
    "concentration_um = 1  # Concentración en micromolar (µM)\n",
    "ppm_result = 1 / umolar_to_ppm(molar_w, concentration_um)\n",
    "\n",
    "print(\"Concentration in ppm:\", ppm_result)\n"
   ]
  },
  {
   "cell_type": "code",
   "execution_count": 35,
   "id": "434df3f3",
   "metadata": {},
   "outputs": [
    {
     "name": "stdout",
     "output_type": "stream",
     "text": [
      "Len. of oxdna box: 50.37806013906467\n"
     ]
    }
   ],
   "source": [
    "def volratio_to_lbox(leng, rho, n):\n",
    "    \"leng = length in cluoetides ex. 26, n = no linkers, r = radius, rho = density number defined by emma\"\n",
    "    r=2\n",
    "    l=leng/3/0.8518\n",
    "    v_linker = np.pi*l*((r)**2)\n",
    "    v_box=(n*v_linker)/rho\n",
    "    l_box=(v_box)**(1/3)\n",
    "    return l_box\n",
    "\n",
    "rho = 100/100000\n",
    "leng = 26\n",
    "n = 1\n",
    "res_l_box = volratio_to_lbox(leng, rho, n)\n",
    "print(\"Len. of oxdna box:\", res_l_box)"
   ]
  },
  {
   "cell_type": "code",
   "execution_count": 50,
   "id": "f10662b3",
   "metadata": {},
   "outputs": [
    {
     "name": "stdout",
     "output_type": "stream",
     "text": [
      "Len. of oxdna box: 185.59436039271392\n",
      "Conc. in ppm: 20.0\n"
     ]
    }
   ],
   "source": [
    "def rho_to_lbox(leng, rho, n):\n",
    "    \"leng = length in cluoetides ex. 26, n = no linkers, r = radius, rho = density number defined by emma\"\n",
    "    r=2\n",
    "    l=leng/3/0.8518\n",
    "    v_linker = np.pi*l*((r)**2)\n",
    "    v_box=(n*v_linker)/rho\n",
    "    l_box=(v_box)**(1/3)\n",
    "    return l_box\n",
    "\n",
    "rho = 2/100000\n",
    "leng = 26#\n",
    "n = 1\n",
    "res_l_box = ppm_to_lbox(leng, rho, n)\n",
    "print(\"Len. of oxdna box:\", res_l_box)\n",
    "ppm = rho * 100000 * 10\n",
    "print(\"Conc. in ppm:\", ppm)"
   ]
  },
  {
   "cell_type": "code",
   "execution_count": 34,
   "id": "c053b5b2",
   "metadata": {},
   "outputs": [
    {
     "name": "stdout",
     "output_type": "stream",
     "text": [
      "50.37806013906467\n",
      "123.14895976732747\n"
     ]
    }
   ],
   "source": [
    "#Ipy_oxdna\n",
    "rho=100/100000 #concnetration\n",
    "r=2 #radius \n",
    "#l=(26+14+14)/3/0.8518 #lenght\n",
    "l=(26)/3/0.8518 #lenght duplex part\n",
    "N=1 #number of linker\n",
    "v_linker = np.pi*l*((r)**2) #sim_unitsn \n",
    "v_box=(N*v_linker)/rho #\n",
    "l_box=(v_box)**(1/3)\n",
    "print(l_box)\n",
    "#print(f'{l_box:.2e}') \n",
    "rho1=v_linker/(47*47*47)*100000 #umbrella sampling mathhew sample method\n",
    "print(rho1)"
   ]
  },
  {
   "cell_type": "code",
   "execution_count": 12,
   "id": "5ef943f8",
   "metadata": {},
   "outputs": [
    {
     "name": "stdout",
     "output_type": "stream",
     "text": [
      "426.3374133085031\n"
     ]
    }
   ],
   "source": [
    "#calculation using the volume by Ema\n",
    "#len of the linker is 40 nucleotides in total\n",
    "#rho = N *(v_o/V)#ratio of volume\n",
    "rho=3/100000\n",
    "r=1\n",
    "l=37\n",
    "N=20\n",
    "v_linker = np.pi*l*((r)**2) #sim_units\n",
    "v_box=(N*v_linker)/rho\n",
    "l_box=(v_box)**(1/3)\n",
    "print(l_box)\n",
    "#print(f'{l_box:.2e}') "
   ]
  },
  {
   "cell_type": "code",
   "execution_count": null,
   "id": "c52125c0",
   "metadata": {},
   "outputs": [],
   "source": []
  }
 ],
 "metadata": {
  "kernelspec": {
   "display_name": "Python 3 (ipykernel)",
   "language": "python",
   "name": "python3"
  },
  "language_info": {
   "codemirror_mode": {
    "name": "ipython",
    "version": 3
   },
   "file_extension": ".py",
   "mimetype": "text/x-python",
   "name": "python",
   "nbconvert_exporter": "python",
   "pygments_lexer": "ipython3",
   "version": "3.11.5"
  }
 },
 "nbformat": 4,
 "nbformat_minor": 5
}

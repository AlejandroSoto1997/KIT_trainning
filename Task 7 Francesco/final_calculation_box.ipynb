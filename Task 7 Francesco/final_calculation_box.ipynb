{
 "cells": [
  {
   "cell_type": "markdown",
   "id": "917bb9f4",
   "metadata": {},
   "source": [
    "# Calculation of the concentration for a single linker"
   ]
  },
  {
   "cell_type": "markdown",
   "id": "60dc2c83",
   "metadata": {},
   "source": [
    "This code can calculate the molecular weight for a single linker with sticky ends on 5' 5'"
   ]
  },
  {
   "cell_type": "code",
   "execution_count": 1,
   "id": "0fb59a7c",
   "metadata": {},
   "outputs": [
    {
     "name": "stdout",
     "output_type": "stream",
     "text": [
      "Molecular weight of the single strand ADN: 2416.6 g/mol\n",
      "Molecular weight of the double strand ADN: -122.0 g/mol\n",
      "Molecular weight of the whole system: 4711.2 g/mol\n"
     ]
    }
   ],
   "source": [
    "class DNASequence:\n",
    "    def __init__(self, sequence):\n",
    "        self.sequence = sequence.upper()\n",
    "\n",
    "    def count_nucleotides(self):\n",
    "        nucleotide_count = {'A': 0, 'G': 0, 'C': 0, 'T': 0}\n",
    "        for nucleotide in self.sequence:\n",
    "            if nucleotide in nucleotide_count:\n",
    "                nucleotide_count[nucleotide] += 1\n",
    "        return nucleotide_count\n",
    "\n",
    "    def molecular_weight_single_strand(self):\n",
    "        nucleotide_count = self.count_nucleotides()\n",
    "        weight = (313.2 * nucleotide_count['A']) + (329.2 * nucleotide_count['G']) + \\\n",
    "                 (289.2 * nucleotide_count['C']) + (304.2 * nucleotide_count['T']) - 61.0\n",
    "        return weight\n",
    "\n",
    "    def molecular_weight_double_strand(self, complementary_sequence):\n",
    "        nucleotide_count1 = self.count_nucleotides()\n",
    "        nucleotide_count2 = complementary_sequence.count_nucleotides()\n",
    "        weight = (313.2 * nucleotide_count1['A']) + (329.2 * nucleotide_count1['G']) + \\\n",
    "                 (289.2 * nucleotide_count1['C']) + (304.2 * nucleotide_count1['T']) + \\\n",
    "                 (313.2 * nucleotide_count2['A']) + (329.2 * nucleotide_count2['G']) + \\\n",
    "                 (289.2 * nucleotide_count2['C']) + (304.2 * nucleotide_count2['T']) - (2 * 61.0)\n",
    "        return weight\n",
    "\n",
    "\n",
    "def complement(sequence):\n",
    "    complement_map = {'A': 'T', 'T': 'A', 'G': 'C', 'C': 'G'}\n",
    "    return ''.join([complement_map[base] for base in sequence])\n",
    "\n",
    "\n",
    "def main():\n",
    "    # single strand sequence\n",
    "    single_strand_sequence = \"CTAGTGTT\"\n",
    "    single_strand = DNASequence(single_strand_sequence)\n",
    "\n",
    "    # double strand sequence\n",
    "    double_strand_sequence = \"\"\n",
    "    complementary_sequence = complement(double_strand_sequence)\n",
    "    double_strand = DNASequence(double_strand_sequence)\n",
    "    complementary_strand = DNASequence(complementary_sequence)\n",
    "\n",
    "    # molar weight calculation\n",
    "    weight_single_strand = single_strand.molecular_weight_single_strand()\n",
    "    weight_double_strand = double_strand.molecular_weight_double_strand(complementary_strand)\n",
    "    molar_w = weight_single_strand*2 + weight_double_strand\n",
    "    print(\"Molecular weight of the single strand ADN:\", weight_single_strand, \"g/mol\")\n",
    "    print(\"Molecular weight of the double strand ADN:\", weight_double_strand, \"g/mol\")\n",
    "    print(\"Molecular weight of the whole system:\", molar_w, \"g/mol\")\n",
    "\n",
    "\n",
    "\n",
    "if __name__ == \"__main__\":\n",
    "    main()\n"
   ]
  },
  {
   "cell_type": "markdown",
   "id": "590c82a3",
   "metadata": {},
   "source": [
    "with tme molecular weight as input in the next cell you can obtain the box lenght"
   ]
  },
  {
   "cell_type": "code",
   "execution_count": 7,
   "id": "71ff5d9c",
   "metadata": {},
   "outputs": [
    {
     "name": "stdout",
     "output_type": "stream",
     "text": [
      "Len. of oxdna box: 152.5338093672177\n"
     ]
    }
   ],
   "source": [
    "import numpy as np\n",
    "def umolar_to_lbox(molar_w, concentration_um, leng, n):\n",
    "\n",
    "    # Calcular la concentración en ppm utilizando la misma ecuación\n",
    "    den_dna = 1.7  # density of the dna g/cm3\n",
    "    conmol = concentration_um / 10 ** 6 #conversion to micromolar\n",
    "    a = 1 / conmol # inverse math operation\n",
    "    b = a  / 10 / 100000 * (0.8518) ** 3 / ((10) ** 21 * molar_w) / (0.8518 ** 3 * 10 ** -24) * den_dna #units conversions function\n",
    "    c = 1 / b #ppm conversion inverse\n",
    "    rho = c / (100000 * 10) #conversion ppm to ema variable\n",
    "    r = 2 #radius\n",
    "    l = leng / 3 / 0.8518 #conversion from #nucleotides to sim units\n",
    "    v_linker = np.pi * l * ((r)**2) #volume of the linker\n",
    "    v_box=(n * v_linker) / rho #volume of the box\n",
    "    lbox=(v_box)**(1/3) #len of the box\n",
    "    return lbox\n",
    "\n",
    "# Ejemplo de uso\n",
    "molar_w = 4711.2 # molecular weight in g/mol\n",
    "leng = 8 # len. in nucleotides for exmaple for the duplex is just 26 for the L0 is 12+26+12\n",
    "n = 1 #number of linkers in our case just 1\n",
    "concentration_um = 4  # concentration in micro molar (µM)\n",
    "res_l_box = umolar_to_lbox(molar_w, concentration_um, leng, n)\n",
    "print(\"Len. of oxdna box:\", res_l_box)\n"
   ]
  },
  {
   "cell_type": "markdown",
   "id": "2bdb82e4",
   "metadata": {},
   "source": [
    "# Box size for ensambles"
   ]
  },
  {
   "cell_type": "markdown",
   "id": "76fd77bb",
   "metadata": {},
   "source": [
    "this code allows to calculate the molecular weight of ensambles"
   ]
  },
  {
   "cell_type": "code",
   "execution_count": 1,
   "id": "504bf261",
   "metadata": {},
   "outputs": [
    {
     "name": "stdout",
     "output_type": "stream",
     "text": [
      "Molecular weight of the single strand ADN: 846.5999999999999 g/mol\n",
      "Molecular weight of the double strand ADN: 42512.6 g/mol\n",
      "Molecular weight of the whole system: 43359.2 g/mol\n"
     ]
    }
   ],
   "source": [
    "class DNASequence:\n",
    "    def __init__(self, sequence):\n",
    "        self.sequence = sequence.upper()\n",
    "\n",
    "    def count_nucleotides(self):\n",
    "        nucleotide_count = {'A': 0, 'G': 0, 'C': 0, 'T': 0}\n",
    "        for nucleotide in self.sequence:\n",
    "            if nucleotide in nucleotide_count:\n",
    "                nucleotide_count[nucleotide] += 1\n",
    "        return nucleotide_count\n",
    "\n",
    "    def molecular_weight_single_strand(self):\n",
    "        nucleotide_count = self.count_nucleotides()\n",
    "        weight = (313.2 * nucleotide_count['A']) + (329.2 * nucleotide_count['G']) + \\\n",
    "                 (289.2 * nucleotide_count['C']) + (304.2 * nucleotide_count['T']) - 61.0\n",
    "        return weight\n",
    "\n",
    "    def molecular_weight_double_strand(self, complementary_sequence):\n",
    "        nucleotide_count1 = self.count_nucleotides()\n",
    "        nucleotide_count2 = complementary_sequence.count_nucleotides()\n",
    "        weight = (313.2 * nucleotide_count1['A']) + (329.2 * nucleotide_count1['G']) + \\\n",
    "                 (289.2 * nucleotide_count1['C']) + (304.2 * nucleotide_count1['T']) + \\\n",
    "                 (313.2 * nucleotide_count2['A']) + (329.2 * nucleotide_count2['G']) + \\\n",
    "                 (289.2 * nucleotide_count2['C']) + (304.2 * nucleotide_count2['T']) - (2 * 61.0)\n",
    "        return weight\n",
    "\n",
    "\n",
    "def complement(sequence):\n",
    "    complement_map = {'A': 'T', 'T': 'A', 'G': 'C', 'C': 'G'}\n",
    "    return ''.join([complement_map[base] for base in sequence])\n",
    "\n",
    "\n",
    "def main():\n",
    "    # single strand sequence\n",
    "    # \"CGA TTG ACT CTC CGA TTG ACT CTC GAG AGT CAA TCG\"\n",
    "    # \"C C G\"\n",
    "    #single_strand_sequence = \"CGATTGACTCTCCGATTGACTCTCGAGAGTCAATCG\"\n",
    "    single_strand_sequence = \"CCG\"\n",
    "    single_strand = DNASequence(single_strand_sequence)\n",
    "\n",
    "    # double strand sequence\n",
    "    # \"G CAC GCT GTC CTA AC CTT CGA CGG TCA TGT ACT AGA TCA GAG G TCT ATT CGC ATG ACA TTC ACC GTA AG\"\n",
    "    \n",
    "    #double_strand_sequence = \"GAGAGTCAATCGCACGCTGTCCTAACCTTCGACGGTCATGTACTAGATCAGAGGTCTATTCGCATGACATTCACCGTAAG\"\n",
    "    double_strand_sequence = \"GCACGCTGTCCTAACCTTCGACGGTCATGTACTAGATCAGAGGTCTATTCGCATGACATTCACCGTAAG\"\n",
    "    complementary_sequence = complement(double_strand_sequence)\n",
    "    double_strand = DNASequence(double_strand_sequence)\n",
    "    complementary_strand = DNASequence(complementary_sequence)\n",
    "\n",
    "    # molar weight calculation\n",
    "    weight_single_strand = single_strand.molecular_weight_single_strand()\n",
    "    weight_double_strand = double_strand.molecular_weight_double_strand(complementary_strand)\n",
    "    molar_w = weight_single_strand + weight_double_strand\n",
    "    print(\"Molecular weight of the single strand ADN:\", weight_single_strand, \"g/mol\")\n",
    "    print(\"Molecular weight of the double strand ADN:\", weight_double_strand, \"g/mol\")\n",
    "    print(\"Molecular weight of the whole system:\", molar_w, \"g/mol\")\n",
    "\n",
    "\n",
    "\n",
    "if __name__ == \"__main__\":\n",
    "    main()\n"
   ]
  },
  {
   "cell_type": "code",
   "execution_count": 2,
   "id": "bad709ef",
   "metadata": {},
   "outputs": [
    {
     "name": "stdout",
     "output_type": "stream",
     "text": [
      "Len. of oxdna box: 240.33501208431332\n"
     ]
    }
   ],
   "source": [
    "import numpy as np\n",
    "def umolar_to_lbox(molar_w, concentration_um, leng1, leng2, leng3, n):\n",
    "\n",
    "    # Calcular la concentración en ppm utilizando la misma ecuación\n",
    "    den_dna = 1.7  # density of the dna g/cm3\n",
    "    conmol = concentration_um / 10 ** 6 #conversion to micromolar\n",
    "    a = 1 / conmol # inverse math operation\n",
    "    b = a  / 10 / 100000 * (0.8518) ** 3 / ((10) ** 21 * molar_w) / (0.8518 ** 3 * 10 ** -24) * den_dna #units conversions function\n",
    "    c = 1 / b #ppm conversion inverse\n",
    "    rho = c / (100000 * 10) #conversion ppm to ema variable\n",
    "    r = 2 #radius\n",
    "    l1 = leng1 / 3 / 0.8518\n",
    "    l2 = leng2 / 3 / 0.8518\n",
    "    l3 = leng3 / 3 / 0.8518\n",
    "    #conversion from #nucleotides to sim units\n",
    "    \n",
    "    v_linker_1 = np.pi * l1 * ((r)**2)\n",
    "    v_linker_2 = np.pi * l2 * ((r)**2)#volume of one arm\n",
    "    v_linker_3 = np.pi * l3 * ((r)**2)\n",
    "    v_linker=v_linker_1+v_linker_2+v_linker_3\n",
    "    v_box=(n * v_linker) / rho #volume of the box\n",
    "    lbox=(v_box)**(1/3) #len of the box\n",
    "    return lbox\n",
    "\n",
    "# Ejemplo de uso\n",
    "molar_w = 43359.2 # molecular weight in g/mol\n",
    "leng1 = 14+1 # len. in nucleotides for exmaple for the duplex is just 26 for the L0 is 26+12\n",
    "leng2 = 14+1\n",
    "leng3 = 14+1+26+1\n",
    "n = 1#number of linkers in our case just 1\n",
    "concentration_um = 1  # concentration in micro molar (µM)\n",
    "res_l_box = umolar_to_lbox(molar_w, concentration_um, leng1, leng2, leng3, n)\n",
    "print(\"Len. of oxdna box:\", res_l_box)\n"
   ]
  },
  {
   "cell_type": "code",
   "execution_count": null,
   "id": "4eff31f3",
   "metadata": {},
   "outputs": [],
   "source": []
  }
 ],
 "metadata": {
  "kernelspec": {
   "display_name": "Python 3 (ipykernel)",
   "language": "python",
   "name": "python3"
  },
  "language_info": {
   "codemirror_mode": {
    "name": "ipython",
    "version": 3
   },
   "file_extension": ".py",
   "mimetype": "text/x-python",
   "name": "python",
   "nbconvert_exporter": "python",
   "pygments_lexer": "ipython3",
   "version": "3.11.5"
  }
 },
 "nbformat": 4,
 "nbformat_minor": 5
}

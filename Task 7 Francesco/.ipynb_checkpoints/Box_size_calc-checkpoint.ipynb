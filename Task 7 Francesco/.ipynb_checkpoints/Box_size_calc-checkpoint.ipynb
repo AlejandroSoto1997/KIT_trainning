{
 "cells": [
  {
   "cell_type": "code",
   "execution_count": 18,
   "id": "b7026f8b",
   "metadata": {},
   "outputs": [],
   "source": [
    "# Calculation of the box size based on the volume:\n",
    "# Ilyia´s Input:\n",
    "# density 1 % v/v \n",
    "# Literature 1 g/cm3 or 1000 kg/m3\n",
    "import numpy as np"
   ]
  },
  {
   "cell_type": "code",
   "execution_count": 2,
   "id": "cb8c223d",
   "metadata": {},
   "outputs": [
    {
     "data": {
      "text/plain": [
       "'\\nLinker duplex part: 16097.46 Da TCTATTCGCATGACATTCACCGTAAG\\nMolarity : 62.74 μM\\nSticky ends\\nL0: GAGAGTCAATCG\\t: 3773.45 Da\\nL1: GAGAGTCAATC\\t\\t: 3444.24 Da*\\nMolarity: 297.16 μM\\nL2: GAGAGTCAAT\\t\\t: 3155.06 Da\\nL3: GAGAGTCAA\\t\\t: 2850.86 Da\\n\\n'"
      ]
     },
     "execution_count": 2,
     "metadata": {},
     "output_type": "execute_result"
    }
   ],
   "source": [
    "# Data calculated with https://www.bioinformatics.org/sms2/dna_mw.html\n",
    "\"\"\"\n",
    "Linker duplex part: 16097.46 Da TCTATTCGCATGACATTCACCGTAAG\n",
    "Molarity : 62.74 μM\n",
    "Sticky ends\n",
    "L0: GAGAGTCAATCG\t: 3773.45 Da\n",
    "L1: GAGAGTCAATC\t\t: 3444.24 Da*\n",
    "Molarity: 297.16 μM\n",
    "L2: GAGAGTCAAT\t\t: 3155.06 Da\n",
    "L3: GAGAGTCAA\t\t: 2850.86 Da\n",
    "\n",
    "\"\"\"\n",
    "# Total mass of the linker L1: 19870.91 Da"
   ]
  },
  {
   "cell_type": "code",
   "execution_count": 3,
   "id": "f66cc5ba",
   "metadata": {},
   "outputs": [],
   "source": [
    "#Data from oxDNA documentation:\n",
    "# 1 Da = 1.66054e-27 kg\n",
    "# 1umoxDNA=5.24e-25 kg\n",
    "# 3.15 um (units of mass) is the mass of single nucleotide \n",
    "# 1 uL = 8.518e-10 m\n",
    "conv_Da_kg=1.66054e-27\n",
    "conv_um_kg=5.24e-25\n",
    "m_nucl_um=3.1575\n",
    "conv_ul_m=8.518e-10"
   ]
  },
  {
   "cell_type": "code",
   "execution_count": 4,
   "id": "1e6600f2",
   "metadata": {},
   "outputs": [
    {
     "name": "stdout",
     "output_type": "stream",
     "text": [
      "10.221031548414025\n"
     ]
    }
   ],
   "source": [
    "#First trial\n",
    "target_denisty=1000 #in kg/m3\n",
    "mass_l1_single_kg=19870.91*conv_Da_kg #mass linker L1 in kg\n",
    "vol_num=mass_l1_single_kg/target_denisty #volumen per linker\n",
    "n=20 #number of linkers\n",
    "total_vol=n*vol_num #volumen total\n",
    "len_si=(total_vol)**(1/3) #lenght of the box\n",
    "len_sim=len_si/conv_ul_m #sim lenght\n",
    "print(len_sim)"
   ]
  },
  {
   "cell_type": "code",
   "execution_count": 5,
   "id": "8aecb6f2",
   "metadata": {},
   "outputs": [
    {
     "name": "stdout",
     "output_type": "stream",
     "text": [
      "14.994863448888971\n"
     ]
    }
   ],
   "source": [
    "#Using the mass of each nucleoatide - Ema suggestion\n",
    "total_vol_corr=n*vol_num*m_nucl_um\n",
    "len_si=(total_vol_corr)**(1/3) #lenght of the box\n",
    "len_sim=len_si/conv_ul_m #sim lenght\n",
    "print(len_sim)"
   ]
  },
  {
   "cell_type": "code",
   "execution_count": 6,
   "id": "e6290abe",
   "metadata": {},
   "outputs": [
    {
     "name": "stdout",
     "output_type": "stream",
     "text": [
      "15.823691894832237\n"
     ]
    }
   ],
   "source": [
    "#Using just the value of the nucleotides\n",
    "N=74 #number of nucleotides in one linker (L1)\n",
    "m_tot_sim=N*m_nucl_um\n",
    "m_total_si=m_tot_sim*conv_um_kg\n",
    "vol_num=m_total_si/target_denisty\n",
    "n=20 #number of linkers\n",
    "total_vol=n*vol_num #volumen total\n",
    "len_si=(total_vol)**(1/3) #lenght of the box\n",
    "len_sim=len_si/conv_ul_m #sim lenght\n",
    "print(len_sim)"
   ]
  },
  {
   "cell_type": "code",
   "execution_count": 2,
   "id": "1fc4aa48",
   "metadata": {},
   "outputs": [
    {
     "name": "stdout",
     "output_type": "stream",
     "text": [
      "561.5018068498443\n"
     ]
    }
   ],
   "source": [
    "# FINAL calculation using the volume\n",
    "#len of the linker is 40 nucleotides in total\n",
    "#rho = N *(v_o/V)#ratio of volume\n",
    "rho=3/100000\n",
    "r=2\n",
    "l=(26+14+14)/3/0.8518\n",
    "N=20\n",
    "v_linker = np.pi*l*((r)**2) #sim_units\n",
    "v_box=(N*v_linker)/rho\n",
    "l_box=(v_box)**(1/3)\n",
    "print(l_box)\n",
    "#print(f'{l_box:.2e}')"
   ]
  },
  {
   "cell_type": "code",
   "execution_count": 7,
   "id": "8077c473",
   "metadata": {},
   "outputs": [
    {
     "name": "stdout",
     "output_type": "stream",
     "text": [
      "206.8590342978317\n"
     ]
    }
   ],
   "source": [
    "#Ipy_oxdna\n",
    "rho=3/100000 #concnetration\n",
    "r=2 #radius \n",
    "l=(26+14+14)/3/0.8518 #lenght\n",
    "#l=(26)/3/0.8518 #lenght duplex part\n",
    "N=1 #number of linker\n",
    "v_linker = np.pi*l*((r)**2) #sim_unitsn \n",
    "v_box=(N*v_linker)/rho #\n",
    "l_box=(v_box)**(1/3)\n",
    "print(l_box)\n",
    "#print(f'{l_box:.2e}') "
   ]
  },
  {
   "cell_type": "code",
   "execution_count": 8,
   "id": "92cf3e34",
   "metadata": {},
   "outputs": [
    {
     "name": "stdout",
     "output_type": "stream",
     "text": [
      "12.086892971111917\n"
     ]
    }
   ],
   "source": [
    "rho1=v_linker/(130*130*130)*100000 #umbrella sampling mathhew sample method\n",
    "print(rho1)\n",
    "#rho2=(20)*v_linker/(380*380*380)*100000 #francesco approach concentration\n",
    "#print(rho2)"
   ]
  },
  {
   "cell_type": "code",
   "execution_count": 24,
   "id": "775478a1",
   "metadata": {},
   "outputs": [
    {
     "name": "stdout",
     "output_type": "stream",
     "text": [
      "112.4157780610367\n",
      "8.861127613352332\n"
     ]
    }
   ],
   "source": [
    "#Ipy_oxdna\n",
    "rho=9/100000 #concnetration\n",
    "r=2 #radius \n",
    "#l=(26+14+14)/3/0.8518 #lenght\n",
    "l=(26)/3/0.8518 #lenght duplex part\n",
    "N=1 #number of linker\n",
    "v_linker = np.pi*l*((r)**2) #sim_unitsn \n",
    "v_box=(N*v_linker)/rho #\n",
    "l_box=(v_box)**(1/3)\n",
    "print(l_box)\n",
    "#print(f'{l_box:.2e}') \n",
    "rho1=v_linker/(113*113*113)*100000 #umbrella sampling mathhew sample method\n",
    "print(rho1)"
   ]
  },
  {
   "cell_type": "code",
   "execution_count": 107,
   "id": "5ef943f8",
   "metadata": {},
   "outputs": [
    {
     "name": "stdout",
     "output_type": "stream",
     "text": [
      "426.3374133085031\n"
     ]
    }
   ],
   "source": [
    "#calculation using the volume by Ema\n",
    "#len of the linker is 40 nucleotides in total\n",
    "#rho = N *(v_o/V)#ratio of volume\n",
    "rho=3/100000\n",
    "r=1\n",
    "l=37\n",
    "N=20\n",
    "v_linker = np.pi*l*((r)**2) #sim_units\n",
    "v_box=(N*v_linker)/rho\n",
    "l_box=(v_box)**(1/3)\n",
    "print(l_box)\n",
    "#print(f'{l_box:.2e}') "
   ]
  },
  {
   "cell_type": "code",
   "execution_count": null,
   "id": "c52125c0",
   "metadata": {},
   "outputs": [],
   "source": []
  }
 ],
 "metadata": {
  "kernelspec": {
   "display_name": "Python 3 (ipykernel)",
   "language": "python",
   "name": "python3"
  },
  "language_info": {
   "codemirror_mode": {
    "name": "ipython",
    "version": 3
   },
   "file_extension": ".py",
   "mimetype": "text/x-python",
   "name": "python",
   "nbconvert_exporter": "python",
   "pygments_lexer": "ipython3",
   "version": "3.11.5"
  }
 },
 "nbformat": 4,
 "nbformat_minor": 5
}
